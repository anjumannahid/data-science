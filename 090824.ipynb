{
 "cells": [
  {
   "cell_type": "code",
   "execution_count": 85,
   "id": "4a53dae3-fa18-4d29-a0ad-347c172946e3",
   "metadata": {},
   "outputs": [],
   "source": [
    "health_premium(\"female\",1993,\"yes\")"
   ]
  },
  {
   "cell_type": "code",
   "execution_count": 15,
   "id": "16f9f00a-a1b5-4728-abdc-acda6b669d45",
   "metadata": {},
   "outputs": [],
   "source": [
    "def health_premium(gender,dateofbirth,smoker):\n",
    "    if gender==\"male\":\n",
    "        if dateofbirth >1990 and dateofbirth <=2000:\n",
    "            if smoker==\"yes\":\n",
    "                print(\"Your Annual premium is Rs 35000\") \n",
    "            else:\n",
    "                print(\"Your Annual premium is RS\",(35000- 35000*0.10))\n",
    "        elif dateofbirth>1970 and dateofbirth<=1990:\n",
    "            if smoker==\"yes\":\n",
    "                print(\"Your Annual premium is 40000\")\n",
    "            else:\n",
    "                print(\"Your Annual premium is\",(40000-40000*.50))\n",
    "    elif gender==\"female\":\n",
    "        if dateofbirth >1990 and dateofbirth <=2000:\n",
    "            if smoker==\"yes\":\n",
    "                print(\"Your Annual premium is Rs 30000\") \n",
    "            else:\n",
    "                print(\"Your Annual premium is RS\",(30000- 30000*0.10))\n",
    "        elif dateofbirth>1970 and dateofbirth<=1990:\n",
    "            if smoker==\"yes\":\n",
    "                print(\"Your Annual premium is 35000\")\n",
    "            else:\n",
    "                print(\"Your Annual premium is\",(35000-35000*.50))\n"
   ]
  },
  {
   "cell_type": "code",
   "execution_count": 25,
   "id": "bd03986a-61c2-4476-8457-8605975bfb36",
   "metadata": {},
   "outputs": [
    {
     "name": "stdout",
     "output_type": "stream",
     "text": [
      "Your Annual premium is Rs 35000\n"
     ]
    }
   ],
   "source": [
    "health_premium (\"male\",2000,\"yes\")"
   ]
  },
  {
   "cell_type": "code",
   "execution_count": null,
   "id": "1fe2932a-806c-4528-8312-66b8daf486b2",
   "metadata": {},
   "outputs": [],
   "source": []
  },
  {
   "cell_type": "code",
   "execution_count": null,
   "id": "672bbff5-0b0f-4be3-b903-a5be1e8d1527",
   "metadata": {},
   "outputs": [],
   "source": []
  }
 ],
 "metadata": {
  "kernelspec": {
   "display_name": "Python 3 (ipykernel)",
   "language": "python",
   "name": "python3"
  },
  "language_info": {
   "codemirror_mode": {
    "name": "ipython",
    "version": 3
   },
   "file_extension": ".py",
   "mimetype": "text/x-python",
   "name": "python",
   "nbconvert_exporter": "python",
   "pygments_lexer": "ipython3",
   "version": "3.11.7"
  }
 },
 "nbformat": 4,
 "nbformat_minor": 5
}
